{
  "nbformat": 4,
  "nbformat_minor": 0,
  "metadata": {
    "kernelspec": {
      "display_name": "Python 3",
      "language": "python",
      "name": "python3"
    },
    "language_info": {
      "codemirror_mode": {
        "name": "ipython",
        "version": 3
      },
      "file_extension": ".py",
      "mimetype": "text/x-python",
      "name": "python",
      "nbconvert_exporter": "python",
      "pygments_lexer": "ipython3",
      "version": "3.8.3"
    },
    "colab": {
      "name": "Gym-position-predict.ipynb",
      "provenance": [],
      "collapsed_sections": [],
      "toc_visible": true
    }
  },
  "cells": [
    {
      "cell_type": "markdown",
      "metadata": {
        "id": "QruaMDZNDltR"
      },
      "source": [
        "# [야외 공공체육시설 리모델링 최적 입지 선정](https://bigdata.seoul.go.kr/main.do)\n",
        "처음으로 도전한 빅데이터 공모전입니다. 20등이내에 들었지만 아쉽게도 수상에는 떨어졌습니다.  \n",
        "분석과 검증 측면에서 부족했던 부분을 feedback으로 남기고 앞으로 이런 실수는 반복하지 않도록 발전하는 계기로!"
      ]
    },
    {
      "cell_type": "markdown",
      "metadata": {
        "id": "0tHhyFPQEbTt"
      },
      "source": [
        "[![Open In Colab](https://colab.research.google.com/assets/colab-badge.svg)](https://colab.research.google.com/github/DongChanKIM2/seoul-bigdata-competition/blob/main/Gym_position_predict.ipynb)"
      ]
    },
    {
      "cell_type": "markdown",
      "metadata": {
        "id": "UBWwXgZLDltT"
      },
      "source": [
        "## 필요한 라이브러리 불러오기"
      ]
    },
    {
      "cell_type": "code",
      "metadata": {
        "id": "tQEjgd8PDltU",
        "outputId": "10ebcc47-4a4a-438f-f501-4e6b104cffb1"
      },
      "source": [
        "import pandas as pd # 데이터 처리\n",
        "from pandas import DataFrame # 데이터를 표 형식으로 변환\n",
        "!pip install lightgbm\n",
        "from sklearn.metrics import roc_auc_score, roc_curve # 정확성과 별개로 auc 평가\n",
        "from sklearn.metrics import mean_squared_error, r2_score # 정확성 평가 지표\n",
        "from sklearn.model_selection import train_test_split # train, test split\n",
        "import lightgbm as lgb\n",
        "import lightgbm\n",
        "from lightgbm import LGBMRegressor\n",
        "from lightgbm import LGBMClassifier\n",
        "\n",
        "%matplotlib inline #구버전의 주피터 노트북에서 그래프 설정\n",
        "from matplotlib import pyplot as plt\n",
        "import seaborn as sns\n",
        "from scipy import stats"
      ],
      "execution_count": null,
      "outputs": [
        {
          "output_type": "stream",
          "text": [
            "Requirement already satisfied: lightgbm in c:\\programdata\\anaconda3\\lib\\site-packages (2.2.3)\n",
            "Requirement already satisfied: numpy in c:\\programdata\\anaconda3\\lib\\site-packages (from lightgbm) (1.18.5)\n",
            "Requirement already satisfied: scipy in c:\\programdata\\anaconda3\\lib\\site-packages (from lightgbm) (1.5.0)\n",
            "Requirement already satisfied: scikit-learn in c:\\programdata\\anaconda3\\lib\\site-packages (from lightgbm) (0.23.1)\n",
            "Requirement already satisfied: joblib>=0.11 in c:\\programdata\\anaconda3\\lib\\site-packages (from scikit-learn->lightgbm) (0.16.0)\n",
            "Requirement already satisfied: threadpoolctl>=2.0.0 in c:\\programdata\\anaconda3\\lib\\site-packages (from scikit-learn->lightgbm) (2.1.0)\n"
          ],
          "name": "stdout"
        },
        {
          "output_type": "stream",
          "text": [
            "UsageError: unrecognized arguments: #구버전의 주피터 노트북에서 그래프 설정\n"
          ],
          "name": "stderr"
        }
      ]
    },
    {
      "cell_type": "markdown",
      "metadata": {
        "id": "d-DzSMoVDltV"
      },
      "source": [
        "## 데이터 불러오기"
      ]
    },
    {
      "cell_type": "markdown",
      "metadata": {
        "id": "deuOLbm3DltV"
      },
      "source": [
        "+ 국민체육진흥공단 :https://www.kspo.or.kr/kspo/main/main.do\n",
        "+ 서울 열린데이터 광장 :https://data.seoul.go.kr/\n",
        "+ 서울시 주민등록 인구 :https://bigdata.seoul.go.kr/main.do\n",
        "+ 코시스 :https://kosis.kr/index/index.do"
      ]
    },
    {
      "cell_type": "code",
      "metadata": {
        "id": "OCWi1PxsDltW",
        "outputId": "d64822c2-e1f7-452e-e482-e52a0298a25f"
      },
      "source": [
        "data=pd.read_csv('RAW_DATA.csv')\n",
        "data.head()"
      ],
      "execution_count": null,
      "outputs": [
        {
          "output_type": "execute_result",
          "data": {
            "text/html": [
              "<div>\n",
              "<style scoped>\n",
              "    .dataframe tbody tr th:only-of-type {\n",
              "        vertical-align: middle;\n",
              "    }\n",
              "\n",
              "    .dataframe tbody tr th {\n",
              "        vertical-align: top;\n",
              "    }\n",
              "\n",
              "    .dataframe thead th {\n",
              "        text-align: right;\n",
              "    }\n",
              "</style>\n",
              "<table border=\"1\" class=\"dataframe\">\n",
              "  <thead>\n",
              "    <tr style=\"text-align: right;\">\n",
              "      <th></th>\n",
              "      <th>FACI_GB_NM</th>\n",
              "      <th>FCOB_NM</th>\n",
              "      <th>FTYPE_NM</th>\n",
              "      <th>FACI_STAT</th>\n",
              "      <th>Y</th>\n",
              "      <th>FACI_ROAD_ADDR1</th>\n",
              "      <th>FACI_POINT_X</th>\n",
              "      <th>FACI_POINT_Y</th>\n",
              "      <th>CP_NM</th>\n",
              "      <th>CPB_NM</th>\n",
              "      <th>INOUT_GBN</th>\n",
              "      <th>NATION_YN</th>\n",
              "      <th>ATNM_CHK_YN</th>\n",
              "    </tr>\n",
              "  </thead>\n",
              "  <tbody>\n",
              "    <tr>\n",
              "      <th>0</th>\n",
              "      <td>공공</td>\n",
              "      <td>간이운동장</td>\n",
              "      <td>간이운동장</td>\n",
              "      <td>정상운영</td>\n",
              "      <td>1</td>\n",
              "      <td>전라남도 장성군 삼계면 영장로 1585</td>\n",
              "      <td>126.661125</td>\n",
              "      <td>35.257708</td>\n",
              "      <td>전라남도</td>\n",
              "      <td>장성군</td>\n",
              "      <td>결측치</td>\n",
              "      <td>N</td>\n",
              "      <td>N</td>\n",
              "    </tr>\n",
              "    <tr>\n",
              "      <th>1</th>\n",
              "      <td>신고</td>\n",
              "      <td>당구장업</td>\n",
              "      <td>당구장</td>\n",
              "      <td>정상운영</td>\n",
              "      <td>1</td>\n",
              "      <td>광양시 중마로 230  (중동</td>\n",
              "      <td>127.689695</td>\n",
              "      <td>34.945516</td>\n",
              "      <td>전라남도</td>\n",
              "      <td>광양시</td>\n",
              "      <td>없음</td>\n",
              "      <td>N</td>\n",
              "      <td>Y</td>\n",
              "    </tr>\n",
              "    <tr>\n",
              "      <th>2</th>\n",
              "      <td>신고</td>\n",
              "      <td>당구장업</td>\n",
              "      <td>당구장</td>\n",
              "      <td>정상운영</td>\n",
              "      <td>1</td>\n",
              "      <td>광양시 광양읍 서북2길 6 ((2층))</td>\n",
              "      <td>127.578813</td>\n",
              "      <td>34.971214</td>\n",
              "      <td>전라남도</td>\n",
              "      <td>광양시</td>\n",
              "      <td>없음</td>\n",
              "      <td>N</td>\n",
              "      <td>Y</td>\n",
              "    </tr>\n",
              "    <tr>\n",
              "      <th>3</th>\n",
              "      <td>공공</td>\n",
              "      <td>수영장</td>\n",
              "      <td>수영장</td>\n",
              "      <td>정상운영</td>\n",
              "      <td>1</td>\n",
              "      <td>경상남도 고성군 고성읍 송학고분로 193</td>\n",
              "      <td>128.310723</td>\n",
              "      <td>34.979313</td>\n",
              "      <td>경상남도</td>\n",
              "      <td>고성군</td>\n",
              "      <td>실내</td>\n",
              "      <td>N</td>\n",
              "      <td>N</td>\n",
              "    </tr>\n",
              "    <tr>\n",
              "      <th>4</th>\n",
              "      <td>공공</td>\n",
              "      <td>씨름장</td>\n",
              "      <td>씨름장</td>\n",
              "      <td>정상운영</td>\n",
              "      <td>1</td>\n",
              "      <td>경상남도 고성군 고성읍 송학고분로 193</td>\n",
              "      <td>128.310723</td>\n",
              "      <td>34.979313</td>\n",
              "      <td>경상남도</td>\n",
              "      <td>고성군</td>\n",
              "      <td>실내</td>\n",
              "      <td>N</td>\n",
              "      <td>N</td>\n",
              "    </tr>\n",
              "  </tbody>\n",
              "</table>\n",
              "</div>"
            ],
            "text/plain": [
              "  FACI_GB_NM FCOB_NM FTYPE_NM FACI_STAT  Y         FACI_ROAD_ADDR1  \\\n",
              "0         공공   간이운동장    간이운동장      정상운영  1   전라남도 장성군 삼계면 영장로 1585   \n",
              "1         신고    당구장업      당구장      정상운영  1        광양시 중마로 230  (중동   \n",
              "2         신고    당구장업      당구장      정상운영  1   광양시 광양읍 서북2길 6 ((2층))   \n",
              "3         공공     수영장      수영장      정상운영  1  경상남도 고성군 고성읍 송학고분로 193   \n",
              "4         공공     씨름장      씨름장      정상운영  1  경상남도 고성군 고성읍 송학고분로 193   \n",
              "\n",
              "   FACI_POINT_X  FACI_POINT_Y CP_NM CPB_NM INOUT_GBN NATION_YN ATNM_CHK_YN  \n",
              "0    126.661125     35.257708  전라남도    장성군       결측치         N           N  \n",
              "1    127.689695     34.945516  전라남도    광양시        없음         N           Y  \n",
              "2    127.578813     34.971214  전라남도    광양시        없음         N           Y  \n",
              "3    128.310723     34.979313  경상남도    고성군        실내         N           N  \n",
              "4    128.310723     34.979313  경상남도    고성군        실내         N           N  "
            ]
          },
          "metadata": {
            "tags": []
          },
          "execution_count": 33
        }
      ]
    },
    {
      "cell_type": "markdown",
      "metadata": {
        "id": "Rv7bkPsMDltW"
      },
      "source": [
        "데이터 info 및 결측치 확인"
      ]
    },
    {
      "cell_type": "code",
      "metadata": {
        "scrolled": true,
        "id": "AFQUT5RuDltX",
        "outputId": "79453416-4036-4c37-fea6-a4661f99cbb2"
      },
      "source": [
        "data.dtypes"
      ],
      "execution_count": null,
      "outputs": [
        {
          "output_type": "execute_result",
          "data": {
            "text/plain": [
              "FACI_GB_NM          object\n",
              "FCOB_NM             object\n",
              "FTYPE_NM            object\n",
              "FACI_STAT           object\n",
              "Y                    int64\n",
              "FACI_ROAD_ADDR1     object\n",
              "FACI_POINT_X       float64\n",
              "FACI_POINT_Y       float64\n",
              "CP_NM               object\n",
              "CPB_NM              object\n",
              "INOUT_GBN           object\n",
              "NATION_YN           object\n",
              "ATNM_CHK_YN         object\n",
              "dtype: object"
            ]
          },
          "metadata": {
            "tags": []
          },
          "execution_count": 34
        }
      ]
    },
    {
      "cell_type": "code",
      "metadata": {
        "scrolled": false,
        "id": "po6B0VynDltX",
        "outputId": "ded0c0e9-86b2-4975-d06b-431ae442f639"
      },
      "source": [
        "data.isnull().sum()"
      ],
      "execution_count": null,
      "outputs": [
        {
          "output_type": "execute_result",
          "data": {
            "text/plain": [
              "FACI_GB_NM         0\n",
              "FCOB_NM            0\n",
              "FTYPE_NM           0\n",
              "FACI_STAT          0\n",
              "Y                  0\n",
              "FACI_ROAD_ADDR1    0\n",
              "FACI_POINT_X       0\n",
              "FACI_POINT_Y       0\n",
              "CP_NM              0\n",
              "CPB_NM             0\n",
              "INOUT_GBN          0\n",
              "NATION_YN          0\n",
              "ATNM_CHK_YN        0\n",
              "dtype: int64"
            ]
          },
          "metadata": {
            "tags": []
          },
          "execution_count": 35
        }
      ]
    },
    {
      "cell_type": "markdown",
      "metadata": {
        "id": "DYk0DzPdDltX"
      },
      "source": [
        "분석을 위한 데이터 타입 변환"
      ]
    },
    {
      "cell_type": "code",
      "metadata": {
        "id": "dpOfhO31DltY"
      },
      "source": [
        "data.FACI_GB_NM=data.FACI_GB_NM.astype(\"category\")\n",
        "data.FCOB_NM=data.FCOB_NM.astype(\"category\")\n",
        "data.FTYPE_NM=data.FTYPE_NM.astype(\"category\")\n",
        "data.CP_NM=data.CP_NM.astype(\"category\")\n",
        "data.CPB_NM=data.CPB_NM.astype(\"category\")\n",
        "data.INOUT_GBN=data.INOUT_GBN.astype(\"category\")\n",
        "data.NATION_YN=data.NATION_YN.astype(\"category\")\n",
        "data.ATNM_CHK_YN=data.ATNM_CHK_YN.astype(\"category\")\n",
        "data.Y=data.Y.astype(\"category\")\n",
        "\n",
        "data=data.drop('FACI_STAT',axis=1) #Y와 같은 변수"
      ],
      "execution_count": null,
      "outputs": []
    },
    {
      "cell_type": "code",
      "metadata": {
        "id": "aYc3Ay_dDltY"
      },
      "source": [
        "y=data.Y\n",
        "x=data.drop('Y',axis=1)\n",
        "x=x.drop('FACI_ROAD_ADDR1',axis=1) #모든 행이 다른 값을 가지는 고유 변수 -> 과적합이 일어나기 때문에 제거"
      ],
      "execution_count": null,
      "outputs": []
    },
    {
      "cell_type": "markdown",
      "metadata": {
        "id": "qdO7Ge5cDltY"
      },
      "source": [
        "### LightGBM 파라미터 값 설정"
      ]
    },
    {
      "cell_type": "code",
      "metadata": {
        "id": "RgsZKWvBDltY"
      },
      "source": [
        "param = {'boosting_type': 'gbdt','num_leaves':10, 'objective':'binary','max_depth':10,'learning_rate':.05} \n",
        "#max_depth, learning rate높이면 과적화,but 변수가 너무 많으면 max_depth 증가(20~30)\n",
        "param['metric'] = ['auc', 'binary'] #auc가 auccray가 아니라 auc 면적, 지금은 y값이 0,1이라 binary이지만 y값이 2이상이면 다항분포 사용\n",
        "num_boost_round = 100\n",
        "early_stopping_rounds = 30 #30번부터 차이가 없으면 30번 이후에서 끝내기\n",
        "evals_result = {}\n",
        "num_round = num_boost_round"
      ],
      "execution_count": null,
      "outputs": []
    },
    {
      "cell_type": "markdown",
      "metadata": {
        "id": "zrv78ktyDltZ"
      },
      "source": [
        "### AUC"
      ]
    },
    {
      "cell_type": "code",
      "metadata": {
        "scrolled": true,
        "id": "QMROiNZkDltZ",
        "outputId": "ea91ee64-5e16-4358-a535-2a8af99fc847"
      },
      "source": [
        "x_train,x_test,y_train,y_test=train_test_split(x,y,test_size=.3)\n",
        "train_data=lgb.Dataset(x_train,label=y_train)\n",
        "lgbm=lgb.train(param,train_data,num_round)\n",
        "ypred=lgbm.predict(x_test)\n",
        "\n",
        "#data1 lightGBM AUC\n",
        "print(\"data AUC\")\n",
        "print(roc_auc_score(y_test,ypred))"
      ],
      "execution_count": null,
      "outputs": [
        {
          "output_type": "stream",
          "text": [
            "data AUC\n",
            "0.8372593487557939\n"
          ],
          "name": "stdout"
        }
      ]
    },
    {
      "cell_type": "markdown",
      "metadata": {
        "id": "GyxXaeJmDltZ"
      },
      "source": [
        "### F1 Score"
      ]
    },
    {
      "cell_type": "code",
      "metadata": {
        "id": "02b1hWRfDlta",
        "outputId": "5a808f49-7179-4d2a-f516-4e0244a0e5d8"
      },
      "source": [
        "ypred_result=ypred \n",
        "#F1 Score맞추기 위해서 하는 것, 모델 2개를 비교할땐 auc,\n",
        "#여기의 auc는 다 영역임, but 0이 9개 ,1이 1개이면 전부 0이어도 정확성이 높게 나오므로 f1 score이 유의함 0,1 비율 5:5면 acuracy=f1score\n",
        "for i in range(0,1):\n",
        "    for j in range(0,len(ypred)):\n",
        "        #0,1 맞추을 마주는 비율이 거의 같아지는 cut off 값을  찾아서 적용합니다.\n",
        "        if ypred[j]>0.85:\n",
        "            ypred_result[j]=1\n",
        "        else:\n",
        "            ypred_result[j]=0\n",
        "\n",
        "pred_prob=pd.DataFrame(ypred)\n",
        "pred_result=pd.DataFrame(ypred_result)\n",
        "\n",
        "print(\"Crosstab\")\n",
        "print(pd.crosstab(ypred_result,y_test))\n"
      ],
      "execution_count": null,
      "outputs": [
        {
          "output_type": "stream",
          "text": [
            "Crosstab\n",
            "Y         0      1\n",
            "row_0             \n",
            "0.0    2555   5196\n",
            "1.0     944  17696\n"
          ],
          "name": "stdout"
        }
      ]
    },
    {
      "cell_type": "code",
      "metadata": {
        "id": "wWGiXlxBDlta",
        "outputId": "85b86e9d-c375-4588-b741-9b62cfe47b34"
      },
      "source": [
        "arr=pd.crosstab(y_test,ypred_result).to_numpy()\n",
        "TN=arr[0][0]\n",
        "TP=arr[1][1]\n",
        "FN=arr[1][0]\n",
        "FP=arr[0][1]\n",
        "recall=TP/(TP+FN)\n",
        "precision=TP/(TP+FP)\n",
        "zero=TN/(TN+FP)\n",
        "f1score=(precision*recall*2)/(precision+recall)\n",
        "\n",
        "print(\"0,1 맞추는 비율 (1에 가까워야 0,1 모두 잘 맞추는 결과)\")\n",
        "print(recall/zero)\n",
        "print(\"recall\")     \n",
        "print(recall)\n",
        "print(\"precision\")     \n",
        "print(precision)\n",
        "\n",
        "print(\"f1score\")\n",
        "print(f1score)"
      ],
      "execution_count": null,
      "outputs": [
        {
          "output_type": "stream",
          "text": [
            "0,1 맞추는 비율 (1에 가까워야 0,1 모두 잘 맞추는 결과)\n",
            "1.0586305199639043\n",
            "recall\n",
            "0.7730211427572952\n",
            "precision\n",
            "0.9493562231759657\n",
            "f1score\n",
            "0.8521621881922373\n"
          ],
          "name": "stdout"
        }
      ]
    },
    {
      "cell_type": "markdown",
      "metadata": {
        "id": "nTRHLqzKDlta"
      },
      "source": [
        "### 중요 변수 5개 추출"
      ]
    },
    {
      "cell_type": "code",
      "metadata": {
        "id": "w2w5c5pWDltb",
        "outputId": "9e709a15-200a-47a8-9d3d-dc479dac1ff0"
      },
      "source": [
        "plt.rcParams[\"figure.figsize\"] = (14,6)\n",
        "plt.rc('font',size=10)\n",
        "ax = lgb.plot_importance(lgbm, max_num_features=5)\n",
        "plt.show()"
      ],
      "execution_count": null,
      "outputs": [
        {
          "output_type": "display_data",
          "data": {
            "image/png": "[encoded data removed]",
            "text/plain": [
              "<Figure size 1008x432 with 1 Axes>"
            ]
          },
          "metadata": {
            "tags": [],
            "needs_background": "light"
          }
        }
      ]
    },
    {
      "cell_type": "markdown",
      "metadata": {
        "id": "hiXRYAuvDltb"
      },
      "source": [
        "### Predict Score 엑셀 파일에 병합해 추출"
      ]
    },
    {
      "cell_type": "code",
      "metadata": {
        "id": "NfeL1TkzDltc"
      },
      "source": [
        "ypred=lgbm.predict(data.drop('Y',axis=1).drop('FACI_ROAD_ADDR1',axis=1))\n",
        "ypred_prob= pd.DataFrame([ypred]).transpose()\n",
        "result=pd.merge(data,ypred_prob,how=\"outer\",left_index=True, right_index=True)"
      ],
      "execution_count": null,
      "outputs": []
    },
    {
      "cell_type": "code",
      "metadata": {
        "id": "F6hk2eUWDltc",
        "outputId": "f6b18045-6fad-47b7-87e7-7d560ede94f3"
      },
      "source": [
        "result.head() #predict값 붙이기"
      ],
      "execution_count": null,
      "outputs": [
        {
          "output_type": "execute_result",
          "data": {
            "text/html": [
              "<div>\n",
              "<style scoped>\n",
              "    .dataframe tbody tr th:only-of-type {\n",
              "        vertical-align: middle;\n",
              "    }\n",
              "\n",
              "    .dataframe tbody tr th {\n",
              "        vertical-align: top;\n",
              "    }\n",
              "\n",
              "    .dataframe thead th {\n",
              "        text-align: right;\n",
              "    }\n",
              "</style>\n",
              "<table border=\"1\" class=\"dataframe\">\n",
              "  <thead>\n",
              "    <tr style=\"text-align: right;\">\n",
              "      <th></th>\n",
              "      <th>FACI_GB_NM</th>\n",
              "      <th>FCOB_NM</th>\n",
              "      <th>FTYPE_NM</th>\n",
              "      <th>Y</th>\n",
              "      <th>FACI_ROAD_ADDR1</th>\n",
              "      <th>FACI_POINT_X</th>\n",
              "      <th>FACI_POINT_Y</th>\n",
              "      <th>CP_NM</th>\n",
              "      <th>CPB_NM</th>\n",
              "      <th>INOUT_GBN</th>\n",
              "      <th>NATION_YN</th>\n",
              "      <th>ATNM_CHK_YN</th>\n",
              "      <th>0</th>\n",
              "    </tr>\n",
              "  </thead>\n",
              "  <tbody>\n",
              "    <tr>\n",
              "      <th>0</th>\n",
              "      <td>공공</td>\n",
              "      <td>간이운동장</td>\n",
              "      <td>간이운동장</td>\n",
              "      <td>1</td>\n",
              "      <td>전라남도 장성군 삼계면 영장로 1585</td>\n",
              "      <td>126.661125</td>\n",
              "      <td>35.257708</td>\n",
              "      <td>전라남도</td>\n",
              "      <td>장성군</td>\n",
              "      <td>결측치</td>\n",
              "      <td>N</td>\n",
              "      <td>N</td>\n",
              "      <td>0.993107</td>\n",
              "    </tr>\n",
              "    <tr>\n",
              "      <th>1</th>\n",
              "      <td>신고</td>\n",
              "      <td>당구장업</td>\n",
              "      <td>당구장</td>\n",
              "      <td>1</td>\n",
              "      <td>광양시 중마로 230  (중동</td>\n",
              "      <td>127.689695</td>\n",
              "      <td>34.945516</td>\n",
              "      <td>전라남도</td>\n",
              "      <td>광양시</td>\n",
              "      <td>없음</td>\n",
              "      <td>N</td>\n",
              "      <td>Y</td>\n",
              "      <td>0.787857</td>\n",
              "    </tr>\n",
              "    <tr>\n",
              "      <th>2</th>\n",
              "      <td>신고</td>\n",
              "      <td>당구장업</td>\n",
              "      <td>당구장</td>\n",
              "      <td>1</td>\n",
              "      <td>광양시 광양읍 서북2길 6 ((2층))</td>\n",
              "      <td>127.578813</td>\n",
              "      <td>34.971214</td>\n",
              "      <td>전라남도</td>\n",
              "      <td>광양시</td>\n",
              "      <td>없음</td>\n",
              "      <td>N</td>\n",
              "      <td>Y</td>\n",
              "      <td>0.787857</td>\n",
              "    </tr>\n",
              "    <tr>\n",
              "      <th>3</th>\n",
              "      <td>공공</td>\n",
              "      <td>수영장</td>\n",
              "      <td>수영장</td>\n",
              "      <td>1</td>\n",
              "      <td>경상남도 고성군 고성읍 송학고분로 193</td>\n",
              "      <td>128.310723</td>\n",
              "      <td>34.979313</td>\n",
              "      <td>경상남도</td>\n",
              "      <td>고성군</td>\n",
              "      <td>실내</td>\n",
              "      <td>N</td>\n",
              "      <td>N</td>\n",
              "      <td>0.994380</td>\n",
              "    </tr>\n",
              "    <tr>\n",
              "      <th>4</th>\n",
              "      <td>공공</td>\n",
              "      <td>씨름장</td>\n",
              "      <td>씨름장</td>\n",
              "      <td>1</td>\n",
              "      <td>경상남도 고성군 고성읍 송학고분로 193</td>\n",
              "      <td>128.310723</td>\n",
              "      <td>34.979313</td>\n",
              "      <td>경상남도</td>\n",
              "      <td>고성군</td>\n",
              "      <td>실내</td>\n",
              "      <td>N</td>\n",
              "      <td>N</td>\n",
              "      <td>0.987444</td>\n",
              "    </tr>\n",
              "  </tbody>\n",
              "</table>\n",
              "</div>"
            ],
            "text/plain": [
              "  FACI_GB_NM FCOB_NM FTYPE_NM  Y         FACI_ROAD_ADDR1  FACI_POINT_X  \\\n",
              "0         공공   간이운동장    간이운동장  1   전라남도 장성군 삼계면 영장로 1585    126.661125   \n",
              "1         신고    당구장업      당구장  1        광양시 중마로 230  (중동    127.689695   \n",
              "2         신고    당구장업      당구장  1   광양시 광양읍 서북2길 6 ((2층))    127.578813   \n",
              "3         공공     수영장      수영장  1  경상남도 고성군 고성읍 송학고분로 193    128.310723   \n",
              "4         공공     씨름장      씨름장  1  경상남도 고성군 고성읍 송학고분로 193    128.310723   \n",
              "\n",
              "   FACI_POINT_Y CP_NM CPB_NM INOUT_GBN NATION_YN ATNM_CHK_YN         0  \n",
              "0     35.257708  전라남도    장성군       결측치         N           N  0.993107  \n",
              "1     34.945516  전라남도    광양시        없음         N           Y  0.787857  \n",
              "2     34.971214  전라남도    광양시        없음         N           Y  0.787857  \n",
              "3     34.979313  경상남도    고성군        실내         N           N  0.994380  \n",
              "4     34.979313  경상남도    고성군        실내         N           N  0.987444  "
            ]
          },
          "metadata": {
            "tags": []
          },
          "execution_count": 48
        }
      ]
    },
    {
      "cell_type": "code",
      "metadata": {
        "id": "W-W6OgagDltd"
      },
      "source": [
        "result.to_csv(\"result.csv\")"
      ],
      "execution_count": null,
      "outputs": []
    }
  ]
}
